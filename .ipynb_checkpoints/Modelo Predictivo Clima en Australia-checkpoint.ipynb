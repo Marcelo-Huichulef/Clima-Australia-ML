{
  "nbformat": 4,
  "nbformat_minor": 0,
  "metadata": {
    "colab": {
      "provenance": [],
      "machine_shape": "hm",
      "gpuType": "T4",
      "toc_visible": true
    },
    "kernelspec": {
      "name": "python3",
      "display_name": "Python 3"
    },
    "language_info": {
      "name": "python"
    },
    "accelerator": "GPU"
  },
  "cells": [
    {
      "cell_type": "markdown",
      "source": [
        "#1. Preparación del Entorno"
      ],
      "metadata": {
        "id": "QnTcMbGbBePn"
      }
    },
    {
      "cell_type": "markdown",
      "source": [
        "##1.1 Importar Librerías"
      ],
      "metadata": {
        "id": "7H9akGi5Bkjf"
      }
    },
    {
      "cell_type": "code",
      "execution_count": 1,
      "metadata": {
        "id": "YpZtATy8NAg9"
      },
      "outputs": [],
      "source": [
        "# Importar las librerías necesarias\n",
        "import pandas as pd\n",
        "import numpy as np\n",
        "from sklearn.preprocessing import StandardScaler, LabelEncoder\n",
        "from sklearn.model_selection import train_test_split\n",
        "from sklearn.linear_model import LogisticRegression, LinearRegression\n",
        "from sklearn.tree import DecisionTreeClassifier, DecisionTreeRegressor\n",
        "from sklearn.ensemble import RandomForestClassifier, RandomForestRegressor\n",
        "from sklearn.cluster import KMeans, AgglomerativeClustering, DBSCAN\n",
        "from sklearn.metrics import accuracy_score, mean_squared_error, silhouette_score\n",
        "import matplotlib.pyplot as plt\n",
        "import seaborn as sns\n",
        "from sklearn.decomposition import PCA\n",
        "\n"
      ]
    },
    {
      "cell_type": "markdown",
      "source": [
        "##1.2 Cargar los Datos"
      ],
      "metadata": {
        "id": "wxXOa_yABrdV"
      }
    },
    {
      "cell_type": "code",
      "source": [
        "data = pd.read_csv(\"/content/sample_data/weatherAUS.csv\")\n",
        "# Mostrar las primeras filas del dataset\n",
        "data.head()\n"
      ],
      "metadata": {
        "colab": {
          "base_uri": "https://localhost:8080/",
          "height": 342
        },
        "id": "Jc7ofHXINJkM",
        "outputId": "89c7b464-2436-4177-e748-4e41014ab494"
      },
      "execution_count": 2,
      "outputs": [
        {
          "output_type": "execute_result",
          "data": {
            "text/plain": [
              "         Date Location  MinTemp  MaxTemp  Rainfall  Evaporation  Sunshine  \\\n",
              "0  2008-12-01   Albury     13.4     22.9       0.6          NaN       NaN   \n",
              "1  2008-12-02   Albury      7.4     25.1       0.0          NaN       NaN   \n",
              "2  2008-12-03   Albury     12.9     25.7       0.0          NaN       NaN   \n",
              "3  2008-12-04   Albury      9.2     28.0       0.0          NaN       NaN   \n",
              "4  2008-12-05   Albury     17.5     32.3       1.0          NaN       NaN   \n",
              "\n",
              "  WindGustDir  WindGustSpeed WindDir9am  ... Humidity3pm  Pressure9am  \\\n",
              "0           W           44.0          W  ...        22.0       1007.7   \n",
              "1         WNW           44.0        NNW  ...        25.0       1010.6   \n",
              "2         WSW           46.0          W  ...        30.0       1007.6   \n",
              "3          NE           24.0         SE  ...        16.0       1017.6   \n",
              "4           W           41.0        ENE  ...        33.0       1010.8   \n",
              "\n",
              "   Pressure3pm  Cloud9am  Cloud3pm  Temp9am  Temp3pm  RainToday  RISK_MM  \\\n",
              "0       1007.1       8.0       NaN     16.9     21.8         No      0.0   \n",
              "1       1007.8       NaN       NaN     17.2     24.3         No      0.0   \n",
              "2       1008.7       NaN       2.0     21.0     23.2         No      0.0   \n",
              "3       1012.8       NaN       NaN     18.1     26.5         No      1.0   \n",
              "4       1006.0       7.0       8.0     17.8     29.7         No      0.2   \n",
              "\n",
              "   RainTomorrow  \n",
              "0            No  \n",
              "1            No  \n",
              "2            No  \n",
              "3            No  \n",
              "4            No  \n",
              "\n",
              "[5 rows x 24 columns]"
            ],
            "text/html": [
              "\n",
              "  <div id=\"df-ff895c85-2143-4b3e-adcf-ead82b94b860\" class=\"colab-df-container\">\n",
              "    <div>\n",
              "<style scoped>\n",
              "    .dataframe tbody tr th:only-of-type {\n",
              "        vertical-align: middle;\n",
              "    }\n",
              "\n",
              "    .dataframe tbody tr th {\n",
              "        vertical-align: top;\n",
              "    }\n",
              "\n",
              "    .dataframe thead th {\n",
              "        text-align: right;\n",
              "    }\n",
              "</style>\n",
              "<table border=\"1\" class=\"dataframe\">\n",
              "  <thead>\n",
              "    <tr style=\"text-align: right;\">\n",
              "      <th></th>\n",
              "      <th>Date</th>\n",
              "      <th>Location</th>\n",
              "      <th>MinTemp</th>\n",
              "      <th>MaxTemp</th>\n",
              "      <th>Rainfall</th>\n",
              "      <th>Evaporation</th>\n",
              "      <th>Sunshine</th>\n",
              "      <th>WindGustDir</th>\n",
              "      <th>WindGustSpeed</th>\n",
              "      <th>WindDir9am</th>\n",
              "      <th>...</th>\n",
              "      <th>Humidity3pm</th>\n",
              "      <th>Pressure9am</th>\n",
              "      <th>Pressure3pm</th>\n",
              "      <th>Cloud9am</th>\n",
              "      <th>Cloud3pm</th>\n",
              "      <th>Temp9am</th>\n",
              "      <th>Temp3pm</th>\n",
              "      <th>RainToday</th>\n",
              "      <th>RISK_MM</th>\n",
              "      <th>RainTomorrow</th>\n",
              "    </tr>\n",
              "  </thead>\n",
              "  <tbody>\n",
              "    <tr>\n",
              "      <th>0</th>\n",
              "      <td>2008-12-01</td>\n",
              "      <td>Albury</td>\n",
              "      <td>13.4</td>\n",
              "      <td>22.9</td>\n",
              "      <td>0.6</td>\n",
              "      <td>NaN</td>\n",
              "      <td>NaN</td>\n",
              "      <td>W</td>\n",
              "      <td>44.0</td>\n",
              "      <td>W</td>\n",
              "      <td>...</td>\n",
              "      <td>22.0</td>\n",
              "      <td>1007.7</td>\n",
              "      <td>1007.1</td>\n",
              "      <td>8.0</td>\n",
              "      <td>NaN</td>\n",
              "      <td>16.9</td>\n",
              "      <td>21.8</td>\n",
              "      <td>No</td>\n",
              "      <td>0.0</td>\n",
              "      <td>No</td>\n",
              "    </tr>\n",
              "    <tr>\n",
              "      <th>1</th>\n",
              "      <td>2008-12-02</td>\n",
              "      <td>Albury</td>\n",
              "      <td>7.4</td>\n",
              "      <td>25.1</td>\n",
              "      <td>0.0</td>\n",
              "      <td>NaN</td>\n",
              "      <td>NaN</td>\n",
              "      <td>WNW</td>\n",
              "      <td>44.0</td>\n",
              "      <td>NNW</td>\n",
              "      <td>...</td>\n",
              "      <td>25.0</td>\n",
              "      <td>1010.6</td>\n",
              "      <td>1007.8</td>\n",
              "      <td>NaN</td>\n",
              "      <td>NaN</td>\n",
              "      <td>17.2</td>\n",
              "      <td>24.3</td>\n",
              "      <td>No</td>\n",
              "      <td>0.0</td>\n",
              "      <td>No</td>\n",
              "    </tr>\n",
              "    <tr>\n",
              "      <th>2</th>\n",
              "      <td>2008-12-03</td>\n",
              "      <td>Albury</td>\n",
              "      <td>12.9</td>\n",
              "      <td>25.7</td>\n",
              "      <td>0.0</td>\n",
              "      <td>NaN</td>\n",
              "      <td>NaN</td>\n",
              "      <td>WSW</td>\n",
              "      <td>46.0</td>\n",
              "      <td>W</td>\n",
              "      <td>...</td>\n",
              "      <td>30.0</td>\n",
              "      <td>1007.6</td>\n",
              "      <td>1008.7</td>\n",
              "      <td>NaN</td>\n",
              "      <td>2.0</td>\n",
              "      <td>21.0</td>\n",
              "      <td>23.2</td>\n",
              "      <td>No</td>\n",
              "      <td>0.0</td>\n",
              "      <td>No</td>\n",
              "    </tr>\n",
              "    <tr>\n",
              "      <th>3</th>\n",
              "      <td>2008-12-04</td>\n",
              "      <td>Albury</td>\n",
              "      <td>9.2</td>\n",
              "      <td>28.0</td>\n",
              "      <td>0.0</td>\n",
              "      <td>NaN</td>\n",
              "      <td>NaN</td>\n",
              "      <td>NE</td>\n",
              "      <td>24.0</td>\n",
              "      <td>SE</td>\n",
              "      <td>...</td>\n",
              "      <td>16.0</td>\n",
              "      <td>1017.6</td>\n",
              "      <td>1012.8</td>\n",
              "      <td>NaN</td>\n",
              "      <td>NaN</td>\n",
              "      <td>18.1</td>\n",
              "      <td>26.5</td>\n",
              "      <td>No</td>\n",
              "      <td>1.0</td>\n",
              "      <td>No</td>\n",
              "    </tr>\n",
              "    <tr>\n",
              "      <th>4</th>\n",
              "      <td>2008-12-05</td>\n",
              "      <td>Albury</td>\n",
              "      <td>17.5</td>\n",
              "      <td>32.3</td>\n",
              "      <td>1.0</td>\n",
              "      <td>NaN</td>\n",
              "      <td>NaN</td>\n",
              "      <td>W</td>\n",
              "      <td>41.0</td>\n",
              "      <td>ENE</td>\n",
              "      <td>...</td>\n",
              "      <td>33.0</td>\n",
              "      <td>1010.8</td>\n",
              "      <td>1006.0</td>\n",
              "      <td>7.0</td>\n",
              "      <td>8.0</td>\n",
              "      <td>17.8</td>\n",
              "      <td>29.7</td>\n",
              "      <td>No</td>\n",
              "      <td>0.2</td>\n",
              "      <td>No</td>\n",
              "    </tr>\n",
              "  </tbody>\n",
              "</table>\n",
              "<p>5 rows × 24 columns</p>\n",
              "</div>\n",
              "    <div class=\"colab-df-buttons\">\n",
              "\n",
              "  <div class=\"colab-df-container\">\n",
              "    <button class=\"colab-df-convert\" onclick=\"convertToInteractive('df-ff895c85-2143-4b3e-adcf-ead82b94b860')\"\n",
              "            title=\"Convert this dataframe to an interactive table.\"\n",
              "            style=\"display:none;\">\n",
              "\n",
              "  <svg xmlns=\"http://www.w3.org/2000/svg\" height=\"24px\" viewBox=\"0 -960 960 960\">\n",
              "    <path d=\"M120-120v-720h720v720H120Zm60-500h600v-160H180v160Zm220 220h160v-160H400v160Zm0 220h160v-160H400v160ZM180-400h160v-160H180v160Zm440 0h160v-160H620v160ZM180-180h160v-160H180v160Zm440 0h160v-160H620v160Z\"/>\n",
              "  </svg>\n",
              "    </button>\n",
              "\n",
              "  <style>\n",
              "    .colab-df-container {\n",
              "      display:flex;\n",
              "      gap: 12px;\n",
              "    }\n",
              "\n",
              "    .colab-df-convert {\n",
              "      background-color: #E8F0FE;\n",
              "      border: none;\n",
              "      border-radius: 50%;\n",
              "      cursor: pointer;\n",
              "      display: none;\n",
              "      fill: #1967D2;\n",
              "      height: 32px;\n",
              "      padding: 0 0 0 0;\n",
              "      width: 32px;\n",
              "    }\n",
              "\n",
              "    .colab-df-convert:hover {\n",
              "      background-color: #E2EBFA;\n",
              "      box-shadow: 0px 1px 2px rgba(60, 64, 67, 0.3), 0px 1px 3px 1px rgba(60, 64, 67, 0.15);\n",
              "      fill: #174EA6;\n",
              "    }\n",
              "\n",
              "    .colab-df-buttons div {\n",
              "      margin-bottom: 4px;\n",
              "    }\n",
              "\n",
              "    [theme=dark] .colab-df-convert {\n",
              "      background-color: #3B4455;\n",
              "      fill: #D2E3FC;\n",
              "    }\n",
              "\n",
              "    [theme=dark] .colab-df-convert:hover {\n",
              "      background-color: #434B5C;\n",
              "      box-shadow: 0px 1px 3px 1px rgba(0, 0, 0, 0.15);\n",
              "      filter: drop-shadow(0px 1px 2px rgba(0, 0, 0, 0.3));\n",
              "      fill: #FFFFFF;\n",
              "    }\n",
              "  </style>\n",
              "\n",
              "    <script>\n",
              "      const buttonEl =\n",
              "        document.querySelector('#df-ff895c85-2143-4b3e-adcf-ead82b94b860 button.colab-df-convert');\n",
              "      buttonEl.style.display =\n",
              "        google.colab.kernel.accessAllowed ? 'block' : 'none';\n",
              "\n",
              "      async function convertToInteractive(key) {\n",
              "        const element = document.querySelector('#df-ff895c85-2143-4b3e-adcf-ead82b94b860');\n",
              "        const dataTable =\n",
              "          await google.colab.kernel.invokeFunction('convertToInteractive',\n",
              "                                                    [key], {});\n",
              "        if (!dataTable) return;\n",
              "\n",
              "        const docLinkHtml = 'Like what you see? Visit the ' +\n",
              "          '<a target=\"_blank\" href=https://colab.research.google.com/notebooks/data_table.ipynb>data table notebook</a>'\n",
              "          + ' to learn more about interactive tables.';\n",
              "        element.innerHTML = '';\n",
              "        dataTable['output_type'] = 'display_data';\n",
              "        await google.colab.output.renderOutput(dataTable, element);\n",
              "        const docLink = document.createElement('div');\n",
              "        docLink.innerHTML = docLinkHtml;\n",
              "        element.appendChild(docLink);\n",
              "      }\n",
              "    </script>\n",
              "  </div>\n",
              "\n",
              "\n",
              "<div id=\"df-f544f982-5258-42fa-8954-495b0a97048d\">\n",
              "  <button class=\"colab-df-quickchart\" onclick=\"quickchart('df-f544f982-5258-42fa-8954-495b0a97048d')\"\n",
              "            title=\"Suggest charts\"\n",
              "            style=\"display:none;\">\n",
              "\n",
              "<svg xmlns=\"http://www.w3.org/2000/svg\" height=\"24px\"viewBox=\"0 0 24 24\"\n",
              "     width=\"24px\">\n",
              "    <g>\n",
              "        <path d=\"M19 3H5c-1.1 0-2 .9-2 2v14c0 1.1.9 2 2 2h14c1.1 0 2-.9 2-2V5c0-1.1-.9-2-2-2zM9 17H7v-7h2v7zm4 0h-2V7h2v10zm4 0h-2v-4h2v4z\"/>\n",
              "    </g>\n",
              "</svg>\n",
              "  </button>\n",
              "\n",
              "<style>\n",
              "  .colab-df-quickchart {\n",
              "      --bg-color: #E8F0FE;\n",
              "      --fill-color: #1967D2;\n",
              "      --hover-bg-color: #E2EBFA;\n",
              "      --hover-fill-color: #174EA6;\n",
              "      --disabled-fill-color: #AAA;\n",
              "      --disabled-bg-color: #DDD;\n",
              "  }\n",
              "\n",
              "  [theme=dark] .colab-df-quickchart {\n",
              "      --bg-color: #3B4455;\n",
              "      --fill-color: #D2E3FC;\n",
              "      --hover-bg-color: #434B5C;\n",
              "      --hover-fill-color: #FFFFFF;\n",
              "      --disabled-bg-color: #3B4455;\n",
              "      --disabled-fill-color: #666;\n",
              "  }\n",
              "\n",
              "  .colab-df-quickchart {\n",
              "    background-color: var(--bg-color);\n",
              "    border: none;\n",
              "    border-radius: 50%;\n",
              "    cursor: pointer;\n",
              "    display: none;\n",
              "    fill: var(--fill-color);\n",
              "    height: 32px;\n",
              "    padding: 0;\n",
              "    width: 32px;\n",
              "  }\n",
              "\n",
              "  .colab-df-quickchart:hover {\n",
              "    background-color: var(--hover-bg-color);\n",
              "    box-shadow: 0 1px 2px rgba(60, 64, 67, 0.3), 0 1px 3px 1px rgba(60, 64, 67, 0.15);\n",
              "    fill: var(--button-hover-fill-color);\n",
              "  }\n",
              "\n",
              "  .colab-df-quickchart-complete:disabled,\n",
              "  .colab-df-quickchart-complete:disabled:hover {\n",
              "    background-color: var(--disabled-bg-color);\n",
              "    fill: var(--disabled-fill-color);\n",
              "    box-shadow: none;\n",
              "  }\n",
              "\n",
              "  .colab-df-spinner {\n",
              "    border: 2px solid var(--fill-color);\n",
              "    border-color: transparent;\n",
              "    border-bottom-color: var(--fill-color);\n",
              "    animation:\n",
              "      spin 1s steps(1) infinite;\n",
              "  }\n",
              "\n",
              "  @keyframes spin {\n",
              "    0% {\n",
              "      border-color: transparent;\n",
              "      border-bottom-color: var(--fill-color);\n",
              "      border-left-color: var(--fill-color);\n",
              "    }\n",
              "    20% {\n",
              "      border-color: transparent;\n",
              "      border-left-color: var(--fill-color);\n",
              "      border-top-color: var(--fill-color);\n",
              "    }\n",
              "    30% {\n",
              "      border-color: transparent;\n",
              "      border-left-color: var(--fill-color);\n",
              "      border-top-color: var(--fill-color);\n",
              "      border-right-color: var(--fill-color);\n",
              "    }\n",
              "    40% {\n",
              "      border-color: transparent;\n",
              "      border-right-color: var(--fill-color);\n",
              "      border-top-color: var(--fill-color);\n",
              "    }\n",
              "    60% {\n",
              "      border-color: transparent;\n",
              "      border-right-color: var(--fill-color);\n",
              "    }\n",
              "    80% {\n",
              "      border-color: transparent;\n",
              "      border-right-color: var(--fill-color);\n",
              "      border-bottom-color: var(--fill-color);\n",
              "    }\n",
              "    90% {\n",
              "      border-color: transparent;\n",
              "      border-bottom-color: var(--fill-color);\n",
              "    }\n",
              "  }\n",
              "</style>\n",
              "\n",
              "  <script>\n",
              "    async function quickchart(key) {\n",
              "      const quickchartButtonEl =\n",
              "        document.querySelector('#' + key + ' button');\n",
              "      quickchartButtonEl.disabled = true;  // To prevent multiple clicks.\n",
              "      quickchartButtonEl.classList.add('colab-df-spinner');\n",
              "      try {\n",
              "        const charts = await google.colab.kernel.invokeFunction(\n",
              "            'suggestCharts', [key], {});\n",
              "      } catch (error) {\n",
              "        console.error('Error during call to suggestCharts:', error);\n",
              "      }\n",
              "      quickchartButtonEl.classList.remove('colab-df-spinner');\n",
              "      quickchartButtonEl.classList.add('colab-df-quickchart-complete');\n",
              "    }\n",
              "    (() => {\n",
              "      let quickchartButtonEl =\n",
              "        document.querySelector('#df-f544f982-5258-42fa-8954-495b0a97048d button');\n",
              "      quickchartButtonEl.style.display =\n",
              "        google.colab.kernel.accessAllowed ? 'block' : 'none';\n",
              "    })();\n",
              "  </script>\n",
              "</div>\n",
              "\n",
              "    </div>\n",
              "  </div>\n"
            ],
            "application/vnd.google.colaboratory.intrinsic+json": {
              "type": "dataframe",
              "variable_name": "data"
            }
          },
          "metadata": {},
          "execution_count": 2
        }
      ]
    },
    {
      "cell_type": "markdown",
      "source": [
        "#2. Exploración y Limpieza de Datos"
      ],
      "metadata": {
        "id": "82p4JEFJBy_w"
      }
    },
    {
      "cell_type": "markdown",
      "source": [
        "##2.1 Verificar Valores Nulos"
      ],
      "metadata": {
        "id": "ZHNfBHM8B7OJ"
      }
    },
    {
      "cell_type": "code",
      "source": [
        "# Verificar valores nulos\n",
        "null_counts = data.isnull().sum()\n",
        "\n",
        "# Mostrar valores nulos por columna\n",
        "null_counts[null_counts > 0]\n"
      ],
      "metadata": {
        "colab": {
          "base_uri": "https://localhost:8080/"
        },
        "id": "tPXrJR8-NNCl",
        "outputId": "060d31d2-ae32-4b5e-e94e-a4a1c862e045"
      },
      "execution_count": 3,
      "outputs": [
        {
          "output_type": "execute_result",
          "data": {
            "text/plain": [
              "MinTemp            637\n",
              "MaxTemp            322\n",
              "Rainfall          1406\n",
              "Evaporation      60843\n",
              "Sunshine         67816\n",
              "WindGustDir       9330\n",
              "WindGustSpeed     9270\n",
              "WindDir9am       10013\n",
              "WindDir3pm        3778\n",
              "WindSpeed9am      1348\n",
              "WindSpeed3pm      2630\n",
              "Humidity9am       1774\n",
              "Humidity3pm       3610\n",
              "Pressure9am      14014\n",
              "Pressure3pm      13981\n",
              "Cloud9am         53657\n",
              "Cloud3pm         57094\n",
              "Temp9am            904\n",
              "Temp3pm           2726\n",
              "RainToday         1406\n",
              "dtype: int64"
            ]
          },
          "metadata": {},
          "execution_count": 3
        }
      ]
    },
    {
      "cell_type": "markdown",
      "source": [
        "##2.2 Imputar o Eliminar Valores Nulos"
      ],
      "metadata": {
        "id": "pmw4RYVOCA2C"
      }
    },
    {
      "cell_type": "code",
      "source": [
        "# Imputar valores nulos con la media (para variables numéricas) o la moda (para variables categóricas)\n",
        "for column in data.columns:\n",
        "    if data[column].dtype == 'object':\n",
        "        data[column].fillna(data[column].mode()[0], inplace=True)\n",
        "    else:\n",
        "        data[column].fillna(data[column].mean(), inplace=True)\n"
      ],
      "metadata": {
        "id": "_b7CI62UNPTY"
      },
      "execution_count": 4,
      "outputs": []
    },
    {
      "cell_type": "markdown",
      "source": [
        "## 2.3 Transformar Variables CAtegóricas y Escalar Variables Numéricas"
      ],
      "metadata": {
        "id": "pvFcmM3GCHvY"
      }
    },
    {
      "cell_type": "code",
      "source": [
        "# Estandarización de variables numéricas\n",
        "scaler = StandardScaler()\n",
        "numerical_features = ['MinTemp', 'MaxTemp', 'Rainfall', 'Evaporation', 'Sunshine', 'WindGustSpeed',\n",
        "                      'WindSpeed9am', 'WindSpeed3pm', 'Humidity9am', 'Humidity3pm', 'Pressure9am',\n",
        "                      'Pressure3pm', 'Cloud9am', 'Cloud3pm', 'Temp9am', 'Temp3pm', 'RISK_MM']\n",
        "\n",
        "data[numerical_features] = scaler.fit_transform(data[numerical_features])\n",
        "\n",
        "# Codificación de variables categóricas\n",
        "encoder = LabelEncoder()\n",
        "categorical_features = ['Location', 'WindGustDir', 'WindDir9am', 'WindDir3pm', 'RainToday', 'RainTomorrow']\n",
        "\n",
        "for feature in categorical_features:\n",
        "    data[feature] = encoder.fit_transform(data[feature].astype(str))\n",
        "\n",
        "# Revisar los datos después de la transformación\n",
        "data.head()\n"
      ],
      "metadata": {
        "colab": {
          "base_uri": "https://localhost:8080/",
          "height": 342
        },
        "id": "VC5UEhWKNRn0",
        "outputId": "6b3af16f-c709-4918-f488-97f1d8a4750f"
      },
      "execution_count": 5,
      "outputs": [
        {
          "output_type": "execute_result",
          "data": {
            "text/plain": [
              "         Date  Location   MinTemp   MaxTemp  Rainfall  Evaporation  \\\n",
              "0  2008-12-01         2  0.189954 -0.045964 -0.207757          0.0   \n",
              "1  2008-12-02         2 -0.749174  0.263480 -0.278989          0.0   \n",
              "2  2008-12-03         2  0.111694  0.347873 -0.278989          0.0   \n",
              "3  2008-12-04         2 -0.467436  0.671383 -0.278989          0.0   \n",
              "4  2008-12-05         2  0.831692  1.276205 -0.160269          0.0   \n",
              "\n",
              "       Sunshine  WindGustDir  WindGustSpeed  WindDir9am  ...  Humidity3pm  \\\n",
              "0 -6.495101e-16           13       0.305648          13  ...    -1.435935   \n",
              "1 -6.495101e-16           14       0.305648           6  ...    -1.289821   \n",
              "2 -6.495101e-16           15       0.457874          13  ...    -1.046299   \n",
              "3 -6.495101e-16            4      -1.216614           9  ...    -1.728162   \n",
              "4 -6.495101e-16           13       0.077309           1  ...    -0.900186   \n",
              "\n",
              "   Pressure9am  Pressure3pm  Cloud9am      Cloud3pm   Temp9am   Temp3pm  \\\n",
              "0    -1.475456    -1.220966  1.563959 -4.219974e-16 -0.013521  0.016412   \n",
              "1    -1.045586    -1.116203  0.000000 -4.219974e-16  0.032832  0.380274   \n",
              "2    -1.490279    -0.981508  0.000000 -1.189322e+00  0.619963  0.220175   \n",
              "3    -0.007969    -0.367897  0.000000 -4.219974e-16  0.171889  0.700472   \n",
              "4    -1.015940    -1.385593  1.124991  1.661439e+00  0.125537  1.166215   \n",
              "\n",
              "   RainToday   RISK_MM  RainTomorrow  \n",
              "0          0 -0.278450             0  \n",
              "1          0 -0.278450             0  \n",
              "2          0 -0.278450             0  \n",
              "3          0 -0.160497             0  \n",
              "4          0 -0.254859             0  \n",
              "\n",
              "[5 rows x 24 columns]"
            ],
            "text/html": [
              "\n",
              "  <div id=\"df-43df4e9c-22a2-4533-a564-bd2eee56d9f8\" class=\"colab-df-container\">\n",
              "    <div>\n",
              "<style scoped>\n",
              "    .dataframe tbody tr th:only-of-type {\n",
              "        vertical-align: middle;\n",
              "    }\n",
              "\n",
              "    .dataframe tbody tr th {\n",
              "        vertical-align: top;\n",
              "    }\n",
              "\n",
              "    .dataframe thead th {\n",
              "        text-align: right;\n",
              "    }\n",
              "</style>\n",
              "<table border=\"1\" class=\"dataframe\">\n",
              "  <thead>\n",
              "    <tr style=\"text-align: right;\">\n",
              "      <th></th>\n",
              "      <th>Date</th>\n",
              "      <th>Location</th>\n",
              "      <th>MinTemp</th>\n",
              "      <th>MaxTemp</th>\n",
              "      <th>Rainfall</th>\n",
              "      <th>Evaporation</th>\n",
              "      <th>Sunshine</th>\n",
              "      <th>WindGustDir</th>\n",
              "      <th>WindGustSpeed</th>\n",
              "      <th>WindDir9am</th>\n",
              "      <th>...</th>\n",
              "      <th>Humidity3pm</th>\n",
              "      <th>Pressure9am</th>\n",
              "      <th>Pressure3pm</th>\n",
              "      <th>Cloud9am</th>\n",
              "      <th>Cloud3pm</th>\n",
              "      <th>Temp9am</th>\n",
              "      <th>Temp3pm</th>\n",
              "      <th>RainToday</th>\n",
              "      <th>RISK_MM</th>\n",
              "      <th>RainTomorrow</th>\n",
              "    </tr>\n",
              "  </thead>\n",
              "  <tbody>\n",
              "    <tr>\n",
              "      <th>0</th>\n",
              "      <td>2008-12-01</td>\n",
              "      <td>2</td>\n",
              "      <td>0.189954</td>\n",
              "      <td>-0.045964</td>\n",
              "      <td>-0.207757</td>\n",
              "      <td>0.0</td>\n",
              "      <td>-6.495101e-16</td>\n",
              "      <td>13</td>\n",
              "      <td>0.305648</td>\n",
              "      <td>13</td>\n",
              "      <td>...</td>\n",
              "      <td>-1.435935</td>\n",
              "      <td>-1.475456</td>\n",
              "      <td>-1.220966</td>\n",
              "      <td>1.563959</td>\n",
              "      <td>-4.219974e-16</td>\n",
              "      <td>-0.013521</td>\n",
              "      <td>0.016412</td>\n",
              "      <td>0</td>\n",
              "      <td>-0.278450</td>\n",
              "      <td>0</td>\n",
              "    </tr>\n",
              "    <tr>\n",
              "      <th>1</th>\n",
              "      <td>2008-12-02</td>\n",
              "      <td>2</td>\n",
              "      <td>-0.749174</td>\n",
              "      <td>0.263480</td>\n",
              "      <td>-0.278989</td>\n",
              "      <td>0.0</td>\n",
              "      <td>-6.495101e-16</td>\n",
              "      <td>14</td>\n",
              "      <td>0.305648</td>\n",
              "      <td>6</td>\n",
              "      <td>...</td>\n",
              "      <td>-1.289821</td>\n",
              "      <td>-1.045586</td>\n",
              "      <td>-1.116203</td>\n",
              "      <td>0.000000</td>\n",
              "      <td>-4.219974e-16</td>\n",
              "      <td>0.032832</td>\n",
              "      <td>0.380274</td>\n",
              "      <td>0</td>\n",
              "      <td>-0.278450</td>\n",
              "      <td>0</td>\n",
              "    </tr>\n",
              "    <tr>\n",
              "      <th>2</th>\n",
              "      <td>2008-12-03</td>\n",
              "      <td>2</td>\n",
              "      <td>0.111694</td>\n",
              "      <td>0.347873</td>\n",
              "      <td>-0.278989</td>\n",
              "      <td>0.0</td>\n",
              "      <td>-6.495101e-16</td>\n",
              "      <td>15</td>\n",
              "      <td>0.457874</td>\n",
              "      <td>13</td>\n",
              "      <td>...</td>\n",
              "      <td>-1.046299</td>\n",
              "      <td>-1.490279</td>\n",
              "      <td>-0.981508</td>\n",
              "      <td>0.000000</td>\n",
              "      <td>-1.189322e+00</td>\n",
              "      <td>0.619963</td>\n",
              "      <td>0.220175</td>\n",
              "      <td>0</td>\n",
              "      <td>-0.278450</td>\n",
              "      <td>0</td>\n",
              "    </tr>\n",
              "    <tr>\n",
              "      <th>3</th>\n",
              "      <td>2008-12-04</td>\n",
              "      <td>2</td>\n",
              "      <td>-0.467436</td>\n",
              "      <td>0.671383</td>\n",
              "      <td>-0.278989</td>\n",
              "      <td>0.0</td>\n",
              "      <td>-6.495101e-16</td>\n",
              "      <td>4</td>\n",
              "      <td>-1.216614</td>\n",
              "      <td>9</td>\n",
              "      <td>...</td>\n",
              "      <td>-1.728162</td>\n",
              "      <td>-0.007969</td>\n",
              "      <td>-0.367897</td>\n",
              "      <td>0.000000</td>\n",
              "      <td>-4.219974e-16</td>\n",
              "      <td>0.171889</td>\n",
              "      <td>0.700472</td>\n",
              "      <td>0</td>\n",
              "      <td>-0.160497</td>\n",
              "      <td>0</td>\n",
              "    </tr>\n",
              "    <tr>\n",
              "      <th>4</th>\n",
              "      <td>2008-12-05</td>\n",
              "      <td>2</td>\n",
              "      <td>0.831692</td>\n",
              "      <td>1.276205</td>\n",
              "      <td>-0.160269</td>\n",
              "      <td>0.0</td>\n",
              "      <td>-6.495101e-16</td>\n",
              "      <td>13</td>\n",
              "      <td>0.077309</td>\n",
              "      <td>1</td>\n",
              "      <td>...</td>\n",
              "      <td>-0.900186</td>\n",
              "      <td>-1.015940</td>\n",
              "      <td>-1.385593</td>\n",
              "      <td>1.124991</td>\n",
              "      <td>1.661439e+00</td>\n",
              "      <td>0.125537</td>\n",
              "      <td>1.166215</td>\n",
              "      <td>0</td>\n",
              "      <td>-0.254859</td>\n",
              "      <td>0</td>\n",
              "    </tr>\n",
              "  </tbody>\n",
              "</table>\n",
              "<p>5 rows × 24 columns</p>\n",
              "</div>\n",
              "    <div class=\"colab-df-buttons\">\n",
              "\n",
              "  <div class=\"colab-df-container\">\n",
              "    <button class=\"colab-df-convert\" onclick=\"convertToInteractive('df-43df4e9c-22a2-4533-a564-bd2eee56d9f8')\"\n",
              "            title=\"Convert this dataframe to an interactive table.\"\n",
              "            style=\"display:none;\">\n",
              "\n",
              "  <svg xmlns=\"http://www.w3.org/2000/svg\" height=\"24px\" viewBox=\"0 -960 960 960\">\n",
              "    <path d=\"M120-120v-720h720v720H120Zm60-500h600v-160H180v160Zm220 220h160v-160H400v160Zm0 220h160v-160H400v160ZM180-400h160v-160H180v160Zm440 0h160v-160H620v160ZM180-180h160v-160H180v160Zm440 0h160v-160H620v160Z\"/>\n",
              "  </svg>\n",
              "    </button>\n",
              "\n",
              "  <style>\n",
              "    .colab-df-container {\n",
              "      display:flex;\n",
              "      gap: 12px;\n",
              "    }\n",
              "\n",
              "    .colab-df-convert {\n",
              "      background-color: #E8F0FE;\n",
              "      border: none;\n",
              "      border-radius: 50%;\n",
              "      cursor: pointer;\n",
              "      display: none;\n",
              "      fill: #1967D2;\n",
              "      height: 32px;\n",
              "      padding: 0 0 0 0;\n",
              "      width: 32px;\n",
              "    }\n",
              "\n",
              "    .colab-df-convert:hover {\n",
              "      background-color: #E2EBFA;\n",
              "      box-shadow: 0px 1px 2px rgba(60, 64, 67, 0.3), 0px 1px 3px 1px rgba(60, 64, 67, 0.15);\n",
              "      fill: #174EA6;\n",
              "    }\n",
              "\n",
              "    .colab-df-buttons div {\n",
              "      margin-bottom: 4px;\n",
              "    }\n",
              "\n",
              "    [theme=dark] .colab-df-convert {\n",
              "      background-color: #3B4455;\n",
              "      fill: #D2E3FC;\n",
              "    }\n",
              "\n",
              "    [theme=dark] .colab-df-convert:hover {\n",
              "      background-color: #434B5C;\n",
              "      box-shadow: 0px 1px 3px 1px rgba(0, 0, 0, 0.15);\n",
              "      filter: drop-shadow(0px 1px 2px rgba(0, 0, 0, 0.3));\n",
              "      fill: #FFFFFF;\n",
              "    }\n",
              "  </style>\n",
              "\n",
              "    <script>\n",
              "      const buttonEl =\n",
              "        document.querySelector('#df-43df4e9c-22a2-4533-a564-bd2eee56d9f8 button.colab-df-convert');\n",
              "      buttonEl.style.display =\n",
              "        google.colab.kernel.accessAllowed ? 'block' : 'none';\n",
              "\n",
              "      async function convertToInteractive(key) {\n",
              "        const element = document.querySelector('#df-43df4e9c-22a2-4533-a564-bd2eee56d9f8');\n",
              "        const dataTable =\n",
              "          await google.colab.kernel.invokeFunction('convertToInteractive',\n",
              "                                                    [key], {});\n",
              "        if (!dataTable) return;\n",
              "\n",
              "        const docLinkHtml = 'Like what you see? Visit the ' +\n",
              "          '<a target=\"_blank\" href=https://colab.research.google.com/notebooks/data_table.ipynb>data table notebook</a>'\n",
              "          + ' to learn more about interactive tables.';\n",
              "        element.innerHTML = '';\n",
              "        dataTable['output_type'] = 'display_data';\n",
              "        await google.colab.output.renderOutput(dataTable, element);\n",
              "        const docLink = document.createElement('div');\n",
              "        docLink.innerHTML = docLinkHtml;\n",
              "        element.appendChild(docLink);\n",
              "      }\n",
              "    </script>\n",
              "  </div>\n",
              "\n",
              "\n",
              "<div id=\"df-ad4467a4-2502-4450-9375-bebcc99aa6b5\">\n",
              "  <button class=\"colab-df-quickchart\" onclick=\"quickchart('df-ad4467a4-2502-4450-9375-bebcc99aa6b5')\"\n",
              "            title=\"Suggest charts\"\n",
              "            style=\"display:none;\">\n",
              "\n",
              "<svg xmlns=\"http://www.w3.org/2000/svg\" height=\"24px\"viewBox=\"0 0 24 24\"\n",
              "     width=\"24px\">\n",
              "    <g>\n",
              "        <path d=\"M19 3H5c-1.1 0-2 .9-2 2v14c0 1.1.9 2 2 2h14c1.1 0 2-.9 2-2V5c0-1.1-.9-2-2-2zM9 17H7v-7h2v7zm4 0h-2V7h2v10zm4 0h-2v-4h2v4z\"/>\n",
              "    </g>\n",
              "</svg>\n",
              "  </button>\n",
              "\n",
              "<style>\n",
              "  .colab-df-quickchart {\n",
              "      --bg-color: #E8F0FE;\n",
              "      --fill-color: #1967D2;\n",
              "      --hover-bg-color: #E2EBFA;\n",
              "      --hover-fill-color: #174EA6;\n",
              "      --disabled-fill-color: #AAA;\n",
              "      --disabled-bg-color: #DDD;\n",
              "  }\n",
              "\n",
              "  [theme=dark] .colab-df-quickchart {\n",
              "      --bg-color: #3B4455;\n",
              "      --fill-color: #D2E3FC;\n",
              "      --hover-bg-color: #434B5C;\n",
              "      --hover-fill-color: #FFFFFF;\n",
              "      --disabled-bg-color: #3B4455;\n",
              "      --disabled-fill-color: #666;\n",
              "  }\n",
              "\n",
              "  .colab-df-quickchart {\n",
              "    background-color: var(--bg-color);\n",
              "    border: none;\n",
              "    border-radius: 50%;\n",
              "    cursor: pointer;\n",
              "    display: none;\n",
              "    fill: var(--fill-color);\n",
              "    height: 32px;\n",
              "    padding: 0;\n",
              "    width: 32px;\n",
              "  }\n",
              "\n",
              "  .colab-df-quickchart:hover {\n",
              "    background-color: var(--hover-bg-color);\n",
              "    box-shadow: 0 1px 2px rgba(60, 64, 67, 0.3), 0 1px 3px 1px rgba(60, 64, 67, 0.15);\n",
              "    fill: var(--button-hover-fill-color);\n",
              "  }\n",
              "\n",
              "  .colab-df-quickchart-complete:disabled,\n",
              "  .colab-df-quickchart-complete:disabled:hover {\n",
              "    background-color: var(--disabled-bg-color);\n",
              "    fill: var(--disabled-fill-color);\n",
              "    box-shadow: none;\n",
              "  }\n",
              "\n",
              "  .colab-df-spinner {\n",
              "    border: 2px solid var(--fill-color);\n",
              "    border-color: transparent;\n",
              "    border-bottom-color: var(--fill-color);\n",
              "    animation:\n",
              "      spin 1s steps(1) infinite;\n",
              "  }\n",
              "\n",
              "  @keyframes spin {\n",
              "    0% {\n",
              "      border-color: transparent;\n",
              "      border-bottom-color: var(--fill-color);\n",
              "      border-left-color: var(--fill-color);\n",
              "    }\n",
              "    20% {\n",
              "      border-color: transparent;\n",
              "      border-left-color: var(--fill-color);\n",
              "      border-top-color: var(--fill-color);\n",
              "    }\n",
              "    30% {\n",
              "      border-color: transparent;\n",
              "      border-left-color: var(--fill-color);\n",
              "      border-top-color: var(--fill-color);\n",
              "      border-right-color: var(--fill-color);\n",
              "    }\n",
              "    40% {\n",
              "      border-color: transparent;\n",
              "      border-right-color: var(--fill-color);\n",
              "      border-top-color: var(--fill-color);\n",
              "    }\n",
              "    60% {\n",
              "      border-color: transparent;\n",
              "      border-right-color: var(--fill-color);\n",
              "    }\n",
              "    80% {\n",
              "      border-color: transparent;\n",
              "      border-right-color: var(--fill-color);\n",
              "      border-bottom-color: var(--fill-color);\n",
              "    }\n",
              "    90% {\n",
              "      border-color: transparent;\n",
              "      border-bottom-color: var(--fill-color);\n",
              "    }\n",
              "  }\n",
              "</style>\n",
              "\n",
              "  <script>\n",
              "    async function quickchart(key) {\n",
              "      const quickchartButtonEl =\n",
              "        document.querySelector('#' + key + ' button');\n",
              "      quickchartButtonEl.disabled = true;  // To prevent multiple clicks.\n",
              "      quickchartButtonEl.classList.add('colab-df-spinner');\n",
              "      try {\n",
              "        const charts = await google.colab.kernel.invokeFunction(\n",
              "            'suggestCharts', [key], {});\n",
              "      } catch (error) {\n",
              "        console.error('Error during call to suggestCharts:', error);\n",
              "      }\n",
              "      quickchartButtonEl.classList.remove('colab-df-spinner');\n",
              "      quickchartButtonEl.classList.add('colab-df-quickchart-complete');\n",
              "    }\n",
              "    (() => {\n",
              "      let quickchartButtonEl =\n",
              "        document.querySelector('#df-ad4467a4-2502-4450-9375-bebcc99aa6b5 button');\n",
              "      quickchartButtonEl.style.display =\n",
              "        google.colab.kernel.accessAllowed ? 'block' : 'none';\n",
              "    })();\n",
              "  </script>\n",
              "</div>\n",
              "\n",
              "    </div>\n",
              "  </div>\n"
            ],
            "application/vnd.google.colaboratory.intrinsic+json": {
              "type": "dataframe",
              "variable_name": "data"
            }
          },
          "metadata": {},
          "execution_count": 5
        }
      ]
    },
    {
      "cell_type": "markdown",
      "source": [
        "#3. División del Dataset"
      ],
      "metadata": {
        "id": "ld0_PqdlCX1I"
      }
    },
    {
      "cell_type": "code",
      "source": [
        "# Definir variables independientes y dependientes\n",
        "X = data.drop(['Date', 'RainTomorrow'], axis=1)\n",
        "y = data['RainTomorrow']\n",
        "\n",
        "# División en conjuntos de entrenamiento y prueba\n",
        "X_train, X_test, y_train, y_test = train_test_split(X, y, test_size=0.2, random_state=42)\n"
      ],
      "metadata": {
        "id": "sgjUK9mwNUd4"
      },
      "execution_count": 6,
      "outputs": []
    },
    {
      "cell_type": "markdown",
      "source": [
        "#4. Implementación de Modelos Supervisados"
      ],
      "metadata": {
        "id": "-PPOstX2CeR_"
      }
    },
    {
      "cell_type": "markdown",
      "source": [
        "## 4.1 Modelos de Clasificación"
      ],
      "metadata": {
        "id": "6-D1lOFBCoIz"
      }
    },
    {
      "cell_type": "code",
      "source": [
        "# Modelos de Clasificación\n",
        "logreg = LogisticRegression()\n",
        "dt_clf = DecisionTreeClassifier()\n",
        "rf_clf = RandomForestClassifier()\n",
        "\n",
        "# Entrenamiento de los modelos\n",
        "logreg.fit(X_train, y_train)\n",
        "dt_clf.fit(X_train, y_train)\n",
        "rf_clf.fit(X_train, y_train)\n"
      ],
      "metadata": {
        "colab": {
          "base_uri": "https://localhost:8080/",
          "height": 214
        },
        "id": "VNfwnMtXNXEj",
        "outputId": "a2ece3bb-356d-4b4b-dd9e-5842db9d8d1c"
      },
      "execution_count": 7,
      "outputs": [
        {
          "output_type": "stream",
          "name": "stderr",
          "text": [
            "/usr/local/lib/python3.10/dist-packages/sklearn/linear_model/_logistic.py:458: ConvergenceWarning: lbfgs failed to converge (status=1):\n",
            "STOP: TOTAL NO. of ITERATIONS REACHED LIMIT.\n",
            "\n",
            "Increase the number of iterations (max_iter) or scale the data as shown in:\n",
            "    https://scikit-learn.org/stable/modules/preprocessing.html\n",
            "Please also refer to the documentation for alternative solver options:\n",
            "    https://scikit-learn.org/stable/modules/linear_model.html#logistic-regression\n",
            "  n_iter_i = _check_optimize_result(\n"
          ]
        },
        {
          "output_type": "execute_result",
          "data": {
            "text/plain": [
              "RandomForestClassifier()"
            ],
            "text/html": [
              "<style>#sk-container-id-1 {color: black;background-color: white;}#sk-container-id-1 pre{padding: 0;}#sk-container-id-1 div.sk-toggleable {background-color: white;}#sk-container-id-1 label.sk-toggleable__label {cursor: pointer;display: block;width: 100%;margin-bottom: 0;padding: 0.3em;box-sizing: border-box;text-align: center;}#sk-container-id-1 label.sk-toggleable__label-arrow:before {content: \"▸\";float: left;margin-right: 0.25em;color: #696969;}#sk-container-id-1 label.sk-toggleable__label-arrow:hover:before {color: black;}#sk-container-id-1 div.sk-estimator:hover label.sk-toggleable__label-arrow:before {color: black;}#sk-container-id-1 div.sk-toggleable__content {max-height: 0;max-width: 0;overflow: hidden;text-align: left;background-color: #f0f8ff;}#sk-container-id-1 div.sk-toggleable__content pre {margin: 0.2em;color: black;border-radius: 0.25em;background-color: #f0f8ff;}#sk-container-id-1 input.sk-toggleable__control:checked~div.sk-toggleable__content {max-height: 200px;max-width: 100%;overflow: auto;}#sk-container-id-1 input.sk-toggleable__control:checked~label.sk-toggleable__label-arrow:before {content: \"▾\";}#sk-container-id-1 div.sk-estimator input.sk-toggleable__control:checked~label.sk-toggleable__label {background-color: #d4ebff;}#sk-container-id-1 div.sk-label input.sk-toggleable__control:checked~label.sk-toggleable__label {background-color: #d4ebff;}#sk-container-id-1 input.sk-hidden--visually {border: 0;clip: rect(1px 1px 1px 1px);clip: rect(1px, 1px, 1px, 1px);height: 1px;margin: -1px;overflow: hidden;padding: 0;position: absolute;width: 1px;}#sk-container-id-1 div.sk-estimator {font-family: monospace;background-color: #f0f8ff;border: 1px dotted black;border-radius: 0.25em;box-sizing: border-box;margin-bottom: 0.5em;}#sk-container-id-1 div.sk-estimator:hover {background-color: #d4ebff;}#sk-container-id-1 div.sk-parallel-item::after {content: \"\";width: 100%;border-bottom: 1px solid gray;flex-grow: 1;}#sk-container-id-1 div.sk-label:hover label.sk-toggleable__label {background-color: #d4ebff;}#sk-container-id-1 div.sk-serial::before {content: \"\";position: absolute;border-left: 1px solid gray;box-sizing: border-box;top: 0;bottom: 0;left: 50%;z-index: 0;}#sk-container-id-1 div.sk-serial {display: flex;flex-direction: column;align-items: center;background-color: white;padding-right: 0.2em;padding-left: 0.2em;position: relative;}#sk-container-id-1 div.sk-item {position: relative;z-index: 1;}#sk-container-id-1 div.sk-parallel {display: flex;align-items: stretch;justify-content: center;background-color: white;position: relative;}#sk-container-id-1 div.sk-item::before, #sk-container-id-1 div.sk-parallel-item::before {content: \"\";position: absolute;border-left: 1px solid gray;box-sizing: border-box;top: 0;bottom: 0;left: 50%;z-index: -1;}#sk-container-id-1 div.sk-parallel-item {display: flex;flex-direction: column;z-index: 1;position: relative;background-color: white;}#sk-container-id-1 div.sk-parallel-item:first-child::after {align-self: flex-end;width: 50%;}#sk-container-id-1 div.sk-parallel-item:last-child::after {align-self: flex-start;width: 50%;}#sk-container-id-1 div.sk-parallel-item:only-child::after {width: 0;}#sk-container-id-1 div.sk-dashed-wrapped {border: 1px dashed gray;margin: 0 0.4em 0.5em 0.4em;box-sizing: border-box;padding-bottom: 0.4em;background-color: white;}#sk-container-id-1 div.sk-label label {font-family: monospace;font-weight: bold;display: inline-block;line-height: 1.2em;}#sk-container-id-1 div.sk-label-container {text-align: center;}#sk-container-id-1 div.sk-container {/* jupyter's `normalize.less` sets `[hidden] { display: none; }` but bootstrap.min.css set `[hidden] { display: none !important; }` so we also need the `!important` here to be able to override the default hidden behavior on the sphinx rendered scikit-learn.org. See: https://github.com/scikit-learn/scikit-learn/issues/21755 */display: inline-block !important;position: relative;}#sk-container-id-1 div.sk-text-repr-fallback {display: none;}</style><div id=\"sk-container-id-1\" class=\"sk-top-container\"><div class=\"sk-text-repr-fallback\"><pre>RandomForestClassifier()</pre><b>In a Jupyter environment, please rerun this cell to show the HTML representation or trust the notebook. <br />On GitHub, the HTML representation is unable to render, please try loading this page with nbviewer.org.</b></div><div class=\"sk-container\" hidden><div class=\"sk-item\"><div class=\"sk-estimator sk-toggleable\"><input class=\"sk-toggleable__control sk-hidden--visually\" id=\"sk-estimator-id-1\" type=\"checkbox\" checked><label for=\"sk-estimator-id-1\" class=\"sk-toggleable__label sk-toggleable__label-arrow\">RandomForestClassifier</label><div class=\"sk-toggleable__content\"><pre>RandomForestClassifier()</pre></div></div></div></div></div>"
            ]
          },
          "metadata": {},
          "execution_count": 7
        }
      ]
    },
    {
      "cell_type": "markdown",
      "source": [
        "##4.2 Modelos de Regresión"
      ],
      "metadata": {
        "id": "IPYM6UpcCvT9"
      }
    },
    {
      "cell_type": "code",
      "source": [
        "# Modelos de Regresión\n",
        "linreg = LinearRegression()\n",
        "dt_reg = DecisionTreeRegressor()\n",
        "rf_reg = RandomForestRegressor()\n",
        "\n",
        "# Entrenamiento de los modelos\n",
        "linreg.fit(X_train, y_train)\n",
        "dt_reg.fit(X_train, y_train)\n",
        "rf_reg.fit(X_train, y_train)\n"
      ],
      "metadata": {
        "colab": {
          "base_uri": "https://localhost:8080/",
          "height": 75
        },
        "id": "g8v0ShbXNY6g",
        "outputId": "627e7198-21ea-476c-fd46-02637daf817b"
      },
      "execution_count": 8,
      "outputs": [
        {
          "output_type": "execute_result",
          "data": {
            "text/plain": [
              "RandomForestRegressor()"
            ],
            "text/html": [
              "<style>#sk-container-id-2 {color: black;background-color: white;}#sk-container-id-2 pre{padding: 0;}#sk-container-id-2 div.sk-toggleable {background-color: white;}#sk-container-id-2 label.sk-toggleable__label {cursor: pointer;display: block;width: 100%;margin-bottom: 0;padding: 0.3em;box-sizing: border-box;text-align: center;}#sk-container-id-2 label.sk-toggleable__label-arrow:before {content: \"▸\";float: left;margin-right: 0.25em;color: #696969;}#sk-container-id-2 label.sk-toggleable__label-arrow:hover:before {color: black;}#sk-container-id-2 div.sk-estimator:hover label.sk-toggleable__label-arrow:before {color: black;}#sk-container-id-2 div.sk-toggleable__content {max-height: 0;max-width: 0;overflow: hidden;text-align: left;background-color: #f0f8ff;}#sk-container-id-2 div.sk-toggleable__content pre {margin: 0.2em;color: black;border-radius: 0.25em;background-color: #f0f8ff;}#sk-container-id-2 input.sk-toggleable__control:checked~div.sk-toggleable__content {max-height: 200px;max-width: 100%;overflow: auto;}#sk-container-id-2 input.sk-toggleable__control:checked~label.sk-toggleable__label-arrow:before {content: \"▾\";}#sk-container-id-2 div.sk-estimator input.sk-toggleable__control:checked~label.sk-toggleable__label {background-color: #d4ebff;}#sk-container-id-2 div.sk-label input.sk-toggleable__control:checked~label.sk-toggleable__label {background-color: #d4ebff;}#sk-container-id-2 input.sk-hidden--visually {border: 0;clip: rect(1px 1px 1px 1px);clip: rect(1px, 1px, 1px, 1px);height: 1px;margin: -1px;overflow: hidden;padding: 0;position: absolute;width: 1px;}#sk-container-id-2 div.sk-estimator {font-family: monospace;background-color: #f0f8ff;border: 1px dotted black;border-radius: 0.25em;box-sizing: border-box;margin-bottom: 0.5em;}#sk-container-id-2 div.sk-estimator:hover {background-color: #d4ebff;}#sk-container-id-2 div.sk-parallel-item::after {content: \"\";width: 100%;border-bottom: 1px solid gray;flex-grow: 1;}#sk-container-id-2 div.sk-label:hover label.sk-toggleable__label {background-color: #d4ebff;}#sk-container-id-2 div.sk-serial::before {content: \"\";position: absolute;border-left: 1px solid gray;box-sizing: border-box;top: 0;bottom: 0;left: 50%;z-index: 0;}#sk-container-id-2 div.sk-serial {display: flex;flex-direction: column;align-items: center;background-color: white;padding-right: 0.2em;padding-left: 0.2em;position: relative;}#sk-container-id-2 div.sk-item {position: relative;z-index: 1;}#sk-container-id-2 div.sk-parallel {display: flex;align-items: stretch;justify-content: center;background-color: white;position: relative;}#sk-container-id-2 div.sk-item::before, #sk-container-id-2 div.sk-parallel-item::before {content: \"\";position: absolute;border-left: 1px solid gray;box-sizing: border-box;top: 0;bottom: 0;left: 50%;z-index: -1;}#sk-container-id-2 div.sk-parallel-item {display: flex;flex-direction: column;z-index: 1;position: relative;background-color: white;}#sk-container-id-2 div.sk-parallel-item:first-child::after {align-self: flex-end;width: 50%;}#sk-container-id-2 div.sk-parallel-item:last-child::after {align-self: flex-start;width: 50%;}#sk-container-id-2 div.sk-parallel-item:only-child::after {width: 0;}#sk-container-id-2 div.sk-dashed-wrapped {border: 1px dashed gray;margin: 0 0.4em 0.5em 0.4em;box-sizing: border-box;padding-bottom: 0.4em;background-color: white;}#sk-container-id-2 div.sk-label label {font-family: monospace;font-weight: bold;display: inline-block;line-height: 1.2em;}#sk-container-id-2 div.sk-label-container {text-align: center;}#sk-container-id-2 div.sk-container {/* jupyter's `normalize.less` sets `[hidden] { display: none; }` but bootstrap.min.css set `[hidden] { display: none !important; }` so we also need the `!important` here to be able to override the default hidden behavior on the sphinx rendered scikit-learn.org. See: https://github.com/scikit-learn/scikit-learn/issues/21755 */display: inline-block !important;position: relative;}#sk-container-id-2 div.sk-text-repr-fallback {display: none;}</style><div id=\"sk-container-id-2\" class=\"sk-top-container\"><div class=\"sk-text-repr-fallback\"><pre>RandomForestRegressor()</pre><b>In a Jupyter environment, please rerun this cell to show the HTML representation or trust the notebook. <br />On GitHub, the HTML representation is unable to render, please try loading this page with nbviewer.org.</b></div><div class=\"sk-container\" hidden><div class=\"sk-item\"><div class=\"sk-estimator sk-toggleable\"><input class=\"sk-toggleable__control sk-hidden--visually\" id=\"sk-estimator-id-2\" type=\"checkbox\" checked><label for=\"sk-estimator-id-2\" class=\"sk-toggleable__label sk-toggleable__label-arrow\">RandomForestRegressor</label><div class=\"sk-toggleable__content\"><pre>RandomForestRegressor()</pre></div></div></div></div></div>"
            ]
          },
          "metadata": {},
          "execution_count": 8
        }
      ]
    },
    {
      "cell_type": "markdown",
      "source": [
        "#5. Implementación de Modelos No Supervisados"
      ],
      "metadata": {
        "id": "6OxvjlDHC2ew"
      }
    },
    {
      "cell_type": "code",
      "source": [
        "# Modelos de Clustering\n",
        "kmeans = KMeans(n_clusters=5)\n",
        "dbscan = DBSCAN(eps=0.5, min_samples=5)\n",
        "\n",
        "sampled_data = X.sample(n=10000, random_state=42)\n",
        "agg_clust = AgglomerativeClustering(n_clusters=5)\n",
        "\n",
        "\n",
        "# Ajustar los modelos\n",
        "kmeans.fit(X)\n",
        "dbscan.fit(X)\n",
        "agg_clust.fit(sampled_data)\n",
        "\n"
      ],
      "metadata": {
        "colab": {
          "base_uri": "https://localhost:8080/",
          "height": 129
        },
        "id": "JutcqIyiNbJ_",
        "outputId": "0fae45c0-6a95-4ab3-bb79-741bde7663d6"
      },
      "execution_count": 9,
      "outputs": [
        {
          "output_type": "stream",
          "name": "stderr",
          "text": [
            "/usr/local/lib/python3.10/dist-packages/sklearn/cluster/_kmeans.py:870: FutureWarning: The default value of `n_init` will change from 10 to 'auto' in 1.4. Set the value of `n_init` explicitly to suppress the warning\n",
            "  warnings.warn(\n"
          ]
        },
        {
          "output_type": "execute_result",
          "data": {
            "text/plain": [
              "AgglomerativeClustering(n_clusters=5)"
            ],
            "text/html": [
              "<style>#sk-container-id-3 {color: black;background-color: white;}#sk-container-id-3 pre{padding: 0;}#sk-container-id-3 div.sk-toggleable {background-color: white;}#sk-container-id-3 label.sk-toggleable__label {cursor: pointer;display: block;width: 100%;margin-bottom: 0;padding: 0.3em;box-sizing: border-box;text-align: center;}#sk-container-id-3 label.sk-toggleable__label-arrow:before {content: \"▸\";float: left;margin-right: 0.25em;color: #696969;}#sk-container-id-3 label.sk-toggleable__label-arrow:hover:before {color: black;}#sk-container-id-3 div.sk-estimator:hover label.sk-toggleable__label-arrow:before {color: black;}#sk-container-id-3 div.sk-toggleable__content {max-height: 0;max-width: 0;overflow: hidden;text-align: left;background-color: #f0f8ff;}#sk-container-id-3 div.sk-toggleable__content pre {margin: 0.2em;color: black;border-radius: 0.25em;background-color: #f0f8ff;}#sk-container-id-3 input.sk-toggleable__control:checked~div.sk-toggleable__content {max-height: 200px;max-width: 100%;overflow: auto;}#sk-container-id-3 input.sk-toggleable__control:checked~label.sk-toggleable__label-arrow:before {content: \"▾\";}#sk-container-id-3 div.sk-estimator input.sk-toggleable__control:checked~label.sk-toggleable__label {background-color: #d4ebff;}#sk-container-id-3 div.sk-label input.sk-toggleable__control:checked~label.sk-toggleable__label {background-color: #d4ebff;}#sk-container-id-3 input.sk-hidden--visually {border: 0;clip: rect(1px 1px 1px 1px);clip: rect(1px, 1px, 1px, 1px);height: 1px;margin: -1px;overflow: hidden;padding: 0;position: absolute;width: 1px;}#sk-container-id-3 div.sk-estimator {font-family: monospace;background-color: #f0f8ff;border: 1px dotted black;border-radius: 0.25em;box-sizing: border-box;margin-bottom: 0.5em;}#sk-container-id-3 div.sk-estimator:hover {background-color: #d4ebff;}#sk-container-id-3 div.sk-parallel-item::after {content: \"\";width: 100%;border-bottom: 1px solid gray;flex-grow: 1;}#sk-container-id-3 div.sk-label:hover label.sk-toggleable__label {background-color: #d4ebff;}#sk-container-id-3 div.sk-serial::before {content: \"\";position: absolute;border-left: 1px solid gray;box-sizing: border-box;top: 0;bottom: 0;left: 50%;z-index: 0;}#sk-container-id-3 div.sk-serial {display: flex;flex-direction: column;align-items: center;background-color: white;padding-right: 0.2em;padding-left: 0.2em;position: relative;}#sk-container-id-3 div.sk-item {position: relative;z-index: 1;}#sk-container-id-3 div.sk-parallel {display: flex;align-items: stretch;justify-content: center;background-color: white;position: relative;}#sk-container-id-3 div.sk-item::before, #sk-container-id-3 div.sk-parallel-item::before {content: \"\";position: absolute;border-left: 1px solid gray;box-sizing: border-box;top: 0;bottom: 0;left: 50%;z-index: -1;}#sk-container-id-3 div.sk-parallel-item {display: flex;flex-direction: column;z-index: 1;position: relative;background-color: white;}#sk-container-id-3 div.sk-parallel-item:first-child::after {align-self: flex-end;width: 50%;}#sk-container-id-3 div.sk-parallel-item:last-child::after {align-self: flex-start;width: 50%;}#sk-container-id-3 div.sk-parallel-item:only-child::after {width: 0;}#sk-container-id-3 div.sk-dashed-wrapped {border: 1px dashed gray;margin: 0 0.4em 0.5em 0.4em;box-sizing: border-box;padding-bottom: 0.4em;background-color: white;}#sk-container-id-3 div.sk-label label {font-family: monospace;font-weight: bold;display: inline-block;line-height: 1.2em;}#sk-container-id-3 div.sk-label-container {text-align: center;}#sk-container-id-3 div.sk-container {/* jupyter's `normalize.less` sets `[hidden] { display: none; }` but bootstrap.min.css set `[hidden] { display: none !important; }` so we also need the `!important` here to be able to override the default hidden behavior on the sphinx rendered scikit-learn.org. See: https://github.com/scikit-learn/scikit-learn/issues/21755 */display: inline-block !important;position: relative;}#sk-container-id-3 div.sk-text-repr-fallback {display: none;}</style><div id=\"sk-container-id-3\" class=\"sk-top-container\"><div class=\"sk-text-repr-fallback\"><pre>AgglomerativeClustering(n_clusters=5)</pre><b>In a Jupyter environment, please rerun this cell to show the HTML representation or trust the notebook. <br />On GitHub, the HTML representation is unable to render, please try loading this page with nbviewer.org.</b></div><div class=\"sk-container\" hidden><div class=\"sk-item\"><div class=\"sk-estimator sk-toggleable\"><input class=\"sk-toggleable__control sk-hidden--visually\" id=\"sk-estimator-id-3\" type=\"checkbox\" checked><label for=\"sk-estimator-id-3\" class=\"sk-toggleable__label sk-toggleable__label-arrow\">AgglomerativeClustering</label><div class=\"sk-toggleable__content\"><pre>AgglomerativeClustering(n_clusters=5)</pre></div></div></div></div></div>"
            ]
          },
          "metadata": {},
          "execution_count": 9
        }
      ]
    },
    {
      "cell_type": "markdown",
      "source": [
        "#6. Validación de Modelos\n"
      ],
      "metadata": {
        "id": "16Cu0szuC-n9"
      }
    },
    {
      "cell_type": "markdown",
      "source": [
        "##6.1 Evaluación de modelos Supervisados"
      ],
      "metadata": {
        "id": "LPImMirYDk2e"
      }
    },
    {
      "cell_type": "code",
      "source": [
        "# Evaluación de Modelos Supervisados\n",
        "# Clasificación\n",
        "y_pred_logreg = logreg.predict(X_test)\n",
        "y_pred_dt_clf = dt_clf.predict(X_test)\n",
        "y_pred_rf_clf = rf_clf.predict(X_test)\n",
        "\n",
        "# Métricas de clasificación\n",
        "print(\"Logistic Regression - Accuracy:\", accuracy_score(y_test, y_pred_logreg))\n",
        "print(\"Decision Tree Classifier - Accuracy:\", accuracy_score(y_test, y_pred_dt_clf))\n",
        "print(\"Random Forest Classifier - Accuracy:\", accuracy_score(y_test, y_pred_rf_clf))\n",
        "\n",
        "# Regresión\n",
        "y_pred_linreg = linreg.predict(X_test)\n",
        "y_pred_dt_reg = dt_reg.predict(X_test)\n",
        "y_pred_rf_reg = rf_reg.predict(X_test)\n",
        "\n",
        "# Métricas de regresión\n",
        "print(\"Linear Regression - RMSE:\", mean_squared_error(y_test, y_pred_linreg, squared=False))\n",
        "print(\"Decision Tree Regressor - RMSE:\", mean_squared_error(y_test, y_pred_dt_reg, squared=False))\n",
        "print(\"Random Forest Regressor - RMSE:\", mean_squared_error(y_test, y_pred_rf_reg, squared=False))\n"
      ],
      "metadata": {
        "id": "4UcMtXzwNdgf",
        "colab": {
          "base_uri": "https://localhost:8080/"
        },
        "outputId": "56931f05-847f-40b6-b43f-39cef2db2117"
      },
      "execution_count": 10,
      "outputs": [
        {
          "output_type": "stream",
          "name": "stdout",
          "text": [
            "Logistic Regression - Accuracy: 0.9890994760715919\n",
            "Decision Tree Classifier - Accuracy: 1.0\n",
            "Random Forest Classifier - Accuracy: 1.0\n",
            "Linear Regression - RMSE: 0.32294556938841823\n",
            "Decision Tree Regressor - RMSE: 0.0\n",
            "Random Forest Regressor - RMSE: 0.0\n"
          ]
        }
      ]
    },
    {
      "cell_type": "markdown",
      "source": [
        "##6.2 Evaluación de Modelos No Supervisados"
      ],
      "metadata": {
        "id": "PfsMWHbzDJ-K"
      }
    },
    {
      "cell_type": "code",
      "source": [
        "# Evaluación de Modelos No Supervisados\n",
        "print(\"KMeans - Silhouette Score:\", silhouette_score(X, kmeans.labels_))\n",
        "print(\"Agglomerative Clustering - Silhouette Score:\", silhouette_score(sampled_data, agg_clust.labels_))\n",
        "print(\"DBSCAN - Silhouette Score:\", silhouette_score(X, dbscan.labels_))\n"
      ],
      "metadata": {
        "id": "1ES1KCMcNfuq",
        "colab": {
          "base_uri": "https://localhost:8080/"
        },
        "outputId": "f1256e0a-ab09-40cb-c6f4-1a8a1a4b354b"
      },
      "execution_count": 12,
      "outputs": [
        {
          "output_type": "stream",
          "name": "stdout",
          "text": [
            "KMeans - Silhouette Score: 0.2382084289409373\n",
            "Agglomerative Clustering - Silhouette Score: 0.19896357868863268\n",
            "DBSCAN - Silhouette Score: -0.35102699595360276\n"
          ]
        }
      ]
    },
    {
      "cell_type": "markdown",
      "source": [
        "#Paso 7: Validación de los Modelos"
      ],
      "metadata": {
        "id": "9jCjhwc1WH2o"
      }
    },
    {
      "cell_type": "code",
      "source": [
        "import pandas as pd\n",
        "\n",
        "# Datos\n",
        "data = {\n",
        "    \"Modelo\": [\n",
        "        \"Logistic Regression\", \"Decision Tree Classifier\", \"Random Forest Classifier\",\n",
        "        \"Linear Regression\", \"Decision Tree Regressor\", \"Random Forest Regressor\",\n",
        "        \"KMeans\", \"Agglomerative Clustering\", \"DBSCAN\"\n",
        "    ],\n",
        "    \"Tarea\": [\n",
        "        \"Clasificación\", \"Clasificación\", \"Clasificación\",\n",
        "        \"Regresión\", \"Regresión\", \"Regresión\",\n",
        "        \"Segmentación\", \"Segmentación\", \"Segmentación\"\n",
        "    ],\n",
        "    \"Métrica\": [\n",
        "        \"Accuracy\", \"Accuracy\", \"Accuracy\",\n",
        "        \"RMSE\", \"RMSE\", \"RMSE\",\n",
        "        \"Silhouette Score\", \"Silhouette Score\", \"Silhouette Score\"\n",
        "    ],\n",
        "    \"Valor\": [\n",
        "        0.9891, 1.0, 1.0,\n",
        "        0.3229, 0.0, 0.0,\n",
        "        0.2382, 0.1990, -0.3510\n",
        "    ]\n",
        "}\n",
        "\n",
        "# Crear el DataFrame\n",
        "df = pd.DataFrame(data)\n",
        "\n",
        "# Mostrar la tabla con estilo en Jupyter Notebook\n",
        "df.style.set_table_styles(\n",
        "    [{\n",
        "        'selector': 'thead th',\n",
        "        'props': [('background-color', '#f2f2f2'), ('color', 'black'), ('font-weight', 'bold')]\n",
        "    }, {\n",
        "        'selector': 'tbody tr:nth-child(even)',\n",
        "        'props': [('background-color', '#f9f9f9')]\n",
        "    }, {\n",
        "        'selector': 'tbody tr:nth-child(odd)',\n",
        "        'props': [('background-color', '#ffffff')]\n",
        "    }]\n",
        ").set_properties(**{\n",
        "    'text-align': 'center',\n",
        "    'border': '1px solid black'\n",
        "})\n"
      ],
      "metadata": {
        "colab": {
          "base_uri": "https://localhost:8080/",
          "height": 341
        },
        "id": "NbZB_dXv9tY3",
        "outputId": "96825e51-6c30-4f1b-bb54-a8ace28e759c"
      },
      "execution_count": 14,
      "outputs": [
        {
          "output_type": "execute_result",
          "data": {
            "text/plain": [
              "<pandas.io.formats.style.Styler at 0x7eb85a817b80>"
            ],
            "text/html": [
              "<style type=\"text/css\">\n",
              "#T_ff5df thead th {\n",
              "  background-color: #f2f2f2;\n",
              "  color: black;\n",
              "  font-weight: bold;\n",
              "}\n",
              "#T_ff5df tbody tr:nth-child(even) {\n",
              "  background-color: #f9f9f9;\n",
              "}\n",
              "#T_ff5df tbody tr:nth-child(odd) {\n",
              "  background-color: #ffffff;\n",
              "}\n",
              "#T_ff5df_row0_col0, #T_ff5df_row0_col1, #T_ff5df_row0_col2, #T_ff5df_row0_col3, #T_ff5df_row1_col0, #T_ff5df_row1_col1, #T_ff5df_row1_col2, #T_ff5df_row1_col3, #T_ff5df_row2_col0, #T_ff5df_row2_col1, #T_ff5df_row2_col2, #T_ff5df_row2_col3, #T_ff5df_row3_col0, #T_ff5df_row3_col1, #T_ff5df_row3_col2, #T_ff5df_row3_col3, #T_ff5df_row4_col0, #T_ff5df_row4_col1, #T_ff5df_row4_col2, #T_ff5df_row4_col3, #T_ff5df_row5_col0, #T_ff5df_row5_col1, #T_ff5df_row5_col2, #T_ff5df_row5_col3, #T_ff5df_row6_col0, #T_ff5df_row6_col1, #T_ff5df_row6_col2, #T_ff5df_row6_col3, #T_ff5df_row7_col0, #T_ff5df_row7_col1, #T_ff5df_row7_col2, #T_ff5df_row7_col3, #T_ff5df_row8_col0, #T_ff5df_row8_col1, #T_ff5df_row8_col2, #T_ff5df_row8_col3 {\n",
              "  text-align: center;\n",
              "  border: 1px solid black;\n",
              "}\n",
              "</style>\n",
              "<table id=\"T_ff5df\" class=\"dataframe\">\n",
              "  <thead>\n",
              "    <tr>\n",
              "      <th class=\"blank level0\" >&nbsp;</th>\n",
              "      <th id=\"T_ff5df_level0_col0\" class=\"col_heading level0 col0\" >Modelo</th>\n",
              "      <th id=\"T_ff5df_level0_col1\" class=\"col_heading level0 col1\" >Tarea</th>\n",
              "      <th id=\"T_ff5df_level0_col2\" class=\"col_heading level0 col2\" >Métrica</th>\n",
              "      <th id=\"T_ff5df_level0_col3\" class=\"col_heading level0 col3\" >Valor</th>\n",
              "    </tr>\n",
              "  </thead>\n",
              "  <tbody>\n",
              "    <tr>\n",
              "      <th id=\"T_ff5df_level0_row0\" class=\"row_heading level0 row0\" >0</th>\n",
              "      <td id=\"T_ff5df_row0_col0\" class=\"data row0 col0\" >Logistic Regression</td>\n",
              "      <td id=\"T_ff5df_row0_col1\" class=\"data row0 col1\" >Clasificación</td>\n",
              "      <td id=\"T_ff5df_row0_col2\" class=\"data row0 col2\" >Accuracy</td>\n",
              "      <td id=\"T_ff5df_row0_col3\" class=\"data row0 col3\" >0.989100</td>\n",
              "    </tr>\n",
              "    <tr>\n",
              "      <th id=\"T_ff5df_level0_row1\" class=\"row_heading level0 row1\" >1</th>\n",
              "      <td id=\"T_ff5df_row1_col0\" class=\"data row1 col0\" >Decision Tree Classifier</td>\n",
              "      <td id=\"T_ff5df_row1_col1\" class=\"data row1 col1\" >Clasificación</td>\n",
              "      <td id=\"T_ff5df_row1_col2\" class=\"data row1 col2\" >Accuracy</td>\n",
              "      <td id=\"T_ff5df_row1_col3\" class=\"data row1 col3\" >1.000000</td>\n",
              "    </tr>\n",
              "    <tr>\n",
              "      <th id=\"T_ff5df_level0_row2\" class=\"row_heading level0 row2\" >2</th>\n",
              "      <td id=\"T_ff5df_row2_col0\" class=\"data row2 col0\" >Random Forest Classifier</td>\n",
              "      <td id=\"T_ff5df_row2_col1\" class=\"data row2 col1\" >Clasificación</td>\n",
              "      <td id=\"T_ff5df_row2_col2\" class=\"data row2 col2\" >Accuracy</td>\n",
              "      <td id=\"T_ff5df_row2_col3\" class=\"data row2 col3\" >1.000000</td>\n",
              "    </tr>\n",
              "    <tr>\n",
              "      <th id=\"T_ff5df_level0_row3\" class=\"row_heading level0 row3\" >3</th>\n",
              "      <td id=\"T_ff5df_row3_col0\" class=\"data row3 col0\" >Linear Regression</td>\n",
              "      <td id=\"T_ff5df_row3_col1\" class=\"data row3 col1\" >Regresión</td>\n",
              "      <td id=\"T_ff5df_row3_col2\" class=\"data row3 col2\" >RMSE</td>\n",
              "      <td id=\"T_ff5df_row3_col3\" class=\"data row3 col3\" >0.322900</td>\n",
              "    </tr>\n",
              "    <tr>\n",
              "      <th id=\"T_ff5df_level0_row4\" class=\"row_heading level0 row4\" >4</th>\n",
              "      <td id=\"T_ff5df_row4_col0\" class=\"data row4 col0\" >Decision Tree Regressor</td>\n",
              "      <td id=\"T_ff5df_row4_col1\" class=\"data row4 col1\" >Regresión</td>\n",
              "      <td id=\"T_ff5df_row4_col2\" class=\"data row4 col2\" >RMSE</td>\n",
              "      <td id=\"T_ff5df_row4_col3\" class=\"data row4 col3\" >0.000000</td>\n",
              "    </tr>\n",
              "    <tr>\n",
              "      <th id=\"T_ff5df_level0_row5\" class=\"row_heading level0 row5\" >5</th>\n",
              "      <td id=\"T_ff5df_row5_col0\" class=\"data row5 col0\" >Random Forest Regressor</td>\n",
              "      <td id=\"T_ff5df_row5_col1\" class=\"data row5 col1\" >Regresión</td>\n",
              "      <td id=\"T_ff5df_row5_col2\" class=\"data row5 col2\" >RMSE</td>\n",
              "      <td id=\"T_ff5df_row5_col3\" class=\"data row5 col3\" >0.000000</td>\n",
              "    </tr>\n",
              "    <tr>\n",
              "      <th id=\"T_ff5df_level0_row6\" class=\"row_heading level0 row6\" >6</th>\n",
              "      <td id=\"T_ff5df_row6_col0\" class=\"data row6 col0\" >KMeans</td>\n",
              "      <td id=\"T_ff5df_row6_col1\" class=\"data row6 col1\" >Segmentación</td>\n",
              "      <td id=\"T_ff5df_row6_col2\" class=\"data row6 col2\" >Silhouette Score</td>\n",
              "      <td id=\"T_ff5df_row6_col3\" class=\"data row6 col3\" >0.238200</td>\n",
              "    </tr>\n",
              "    <tr>\n",
              "      <th id=\"T_ff5df_level0_row7\" class=\"row_heading level0 row7\" >7</th>\n",
              "      <td id=\"T_ff5df_row7_col0\" class=\"data row7 col0\" >Agglomerative Clustering</td>\n",
              "      <td id=\"T_ff5df_row7_col1\" class=\"data row7 col1\" >Segmentación</td>\n",
              "      <td id=\"T_ff5df_row7_col2\" class=\"data row7 col2\" >Silhouette Score</td>\n",
              "      <td id=\"T_ff5df_row7_col3\" class=\"data row7 col3\" >0.199000</td>\n",
              "    </tr>\n",
              "    <tr>\n",
              "      <th id=\"T_ff5df_level0_row8\" class=\"row_heading level0 row8\" >8</th>\n",
              "      <td id=\"T_ff5df_row8_col0\" class=\"data row8 col0\" >DBSCAN</td>\n",
              "      <td id=\"T_ff5df_row8_col1\" class=\"data row8 col1\" >Segmentación</td>\n",
              "      <td id=\"T_ff5df_row8_col2\" class=\"data row8 col2\" >Silhouette Score</td>\n",
              "      <td id=\"T_ff5df_row8_col3\" class=\"data row8 col3\" >-0.351000</td>\n",
              "    </tr>\n",
              "  </tbody>\n",
              "</table>\n"
            ]
          },
          "metadata": {},
          "execution_count": 14
        }
      ]
    },
    {
      "cell_type": "markdown",
      "source": [
        "##Análisis de los resultados\n",
        "\n",
        "1. Clasificación:\n",
        "  - Los modelos Decision Tree Classifier y Random Forest Classifier alcanzan una precisión perfecta (1.0), lo que sugiere un posible sobreajuste. Es importante evaluar su rendimiento en datos nuevos.\n",
        "  - La Logistic Regression también presenta un alto rendimiento con un Accuracy de 0.9891, lo que indica que es un modelo robusto.\n",
        "2. Regresión:\n",
        "  - Los modelos Decision Tree Regressor y Random Forest Regressor presentan un RMSE de 0.0, lo que sugiere un sobreajuste extremo. Es necesario verificar su capacidad de generalización.\n",
        "  - La Linear Regression tiene un RMSE de 0.3229, lo cual es razonable para este tipo de modelo.\n",
        "3. Segmentación:\n",
        "  - El modelo KMeans tiene el mejor Silhouette Score (0.2382), lo que indica que es el modelo más efectivo para la segmentación en este caso.\n",
        "  - Agglomerative Clustering y DBSCAN presentan Silhouette Scores menores, siendo DBSCAN el peor con un valor negativo (-0.3510).\n"
      ],
      "metadata": {
        "id": "QmQv2jIx-BIm"
      }
    },
    {
      "cell_type": "markdown",
      "source": [
        "#Paso 8: Selección del Mejor Modelo"
      ],
      "metadata": {
        "id": "bDNSMbmn_Ct6"
      }
    },
    {
      "cell_type": "markdown",
      "source": [
        "\n",
        "##Modelos Supervisados\n",
        "\n",
        "1. Clasificación:\n",
        "  - Dado que Decision Tree Classifier y Random Forest Classifier tienen una precisión perfecta, es prudente elegir el Random Forest Classifier por su capacidad de generalización superior en comparación con los árboles de decisión simples.\n",
        "2. Regresión:\n",
        "  - Debido a la preocupación por el sobreajuste, es recomendable utilizar la Linear Regression, que aunque tiene un RMSE mayor, es un modelo más interpretable y menos propenso al sobreajuste.\n",
        "\n",
        "##Modelo No Supervisado\n",
        "\n",
        "1. Segmentación:\n",
        "  -KMeans es el mejor modelo para segmentación, ya que tiene el Silhouette Score más alto (0.2382)."
      ],
      "metadata": {
        "id": "g3MsONG0_GgY"
      }
    },
    {
      "cell_type": "markdown",
      "source": [
        "##Implementación de los Modelos Seleccionados."
      ],
      "metadata": {
        "id": "VLjFgewX_0ck"
      }
    },
    {
      "cell_type": "code",
      "source": [
        "from sklearn.ensemble import RandomForestClassifier, RandomForestRegressor\n",
        "from sklearn.linear_model import LinearRegression\n",
        "from sklearn.metrics import accuracy_score, mean_squared_error, silhouette_score\n",
        "from sklearn.cluster import KMeans\n",
        "\n",
        "# Implementación del Mejor Modelo de Clasificación\n",
        "best_clf = RandomForestClassifier()\n",
        "best_clf.fit(X_train, y_train)\n",
        "y_pred_best_clf = best_clf.predict(X_test)\n",
        "print(\"Best Classifier - Accuracy:\", accuracy_score(y_test, y_pred_best_clf))\n",
        "\n",
        "# Implementación del Mejor Modelo de Regresión\n",
        "best_reg = LinearRegression()\n",
        "best_reg.fit(X_train, y_train)\n",
        "y_pred_best_reg = best_reg.predict(X_test)\n",
        "print(\"Best Regressor - RMSE:\", mean_squared_error(y_test, y_pred_best_reg, squared=False))\n",
        "\n",
        "# Implementación del Mejor Modelo de Segmentación\n",
        "best_cluster = KMeans(n_clusters=5)\n",
        "best_cluster.fit(X)\n",
        "print(\"KMeans - Silhouette Score:\", silhouette_score(X, best_cluster.labels_))\n",
        "\n"
      ],
      "metadata": {
        "colab": {
          "base_uri": "https://localhost:8080/"
        },
        "id": "XNizfRYcVLPM",
        "outputId": "dae6d8cf-d7c5-4d9a-e887-e414412d45c9"
      },
      "execution_count": 15,
      "outputs": [
        {
          "output_type": "stream",
          "name": "stdout",
          "text": [
            "Best Classifier - Accuracy: 1.0\n",
            "Best Regressor - RMSE: 0.32294556938841823\n"
          ]
        },
        {
          "output_type": "stream",
          "name": "stderr",
          "text": [
            "/usr/local/lib/python3.10/dist-packages/sklearn/cluster/_kmeans.py:870: FutureWarning: The default value of `n_init` will change from 10 to 'auto' in 1.4. Set the value of `n_init` explicitly to suppress the warning\n",
            "  warnings.warn(\n"
          ]
        },
        {
          "output_type": "stream",
          "name": "stdout",
          "text": [
            "KMeans - Silhouette Score: 0.23869476137323453\n"
          ]
        }
      ]
    },
    {
      "cell_type": "markdown",
      "source": [
        "##Análisis de los Resultados\n",
        "###Los resultados obtenidos indican que:\n",
        "- Random Forest Classifier es el mejor modelo de clasificación, ofreciendo alta precisión y buena capacidad de generalización.\n",
        "- Linear Regression es el mejor modelo de regresión, proporcionando un buen equilibrio entre rendimiento y riesgo de sobreajuste.\n",
        "- KMeans es el mejor modelo de segmentación, siendo el más efectivo para identificar patrones en los datos."
      ],
      "metadata": {
        "id": "18ZxsFgmWkf9"
      }
    },
    {
      "cell_type": "markdown",
      "source": [
        "## Propuestas de Soluciones Estratégicas y Acciones Prácticas\n",
        "1. Optimización de Recursos:\n",
        "  - Acción: Utilizar los modelos de predicción de lluvia para optimizar la distribución de recursos agrícolas y gestionar mejor las reservas de agua.\n",
        "  - Impacto: Reducción de costos y mejora en la eficiencia del uso del agua en zonas agrícolas.\n",
        "2. Gestión de Riesgos:\n",
        "  - Acción: Implementar sistemas de alerta temprana basados en los modelos predictivos para prevenir y mitigar el impacto de eventos climáticos extremos como ciclones o inundaciones.\n",
        "  - Impacto: Reducción de daños materiales y mejora en la seguridad de la población.\n",
        "3. Planificación Urbana y de Infraestructura:\n",
        "  - Acción: Utilizar la segmentación de datos climáticos para planificar y construir infraestructura resistente al clima en áreas vulnerables.\n",
        "  - Impacto: Mejora en la resiliencia de las ciudades frente a eventos climáticos adversos y optimización de la inversión en infraestructura."
      ],
      "metadata": {
        "id": "whVLTfCtAyqJ"
      }
    }
  ]
}